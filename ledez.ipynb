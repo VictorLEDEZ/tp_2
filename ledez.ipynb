{
 "cells": [
  {
   "cell_type": "markdown",
   "metadata": {},
   "source": [
    "# TP 2 : La Segmentation bayésienne d’image - Victor LEDEZ"
   ]
  },
  {
   "cell_type": "code",
   "execution_count": null,
   "metadata": {},
   "outputs": [],
   "source": [
    "from code.classes_calculations import classes_calculations\n",
    "from code.estim_param_EM_indep import estim_param_EM_indep\n",
    "from code.plot_gaussian import plot_gaussian\n",
    "from code.images import load_image_1d\n",
    "from matplotlib import pyplot as plt\n",
    "from code.utils import bruit_gauss2\n",
    "\n",
    "from variables import SIGMA1_INITIAL\n",
    "from variables import SIGMA2_INITIAL\n",
    "from variables import MU1_INITIAL\n",
    "from variables import MU2_INITIAL\n",
    "from variables import ITERATIONS"
   ]
  },
  {
   "cell_type": "markdown",
   "metadata": {},
   "source": [
    "## I) La segmentation bayésienne d’image"
   ]
  },
  {
   "cell_type": "code",
   "execution_count": null,
   "metadata": {},
   "outputs": [],
   "source": [
    "\n",
    "# plot_gaussian(MU1_INITIAL, SIGMA1_INITIAL, MU2_INITIAL, SIGMA2_INITIAL)\n",
    "\n",
    "image = load_image_1d('alfa2')\n",
    "\n",
    "class1, class2 = classes_calculations(image)\n",
    "\n",
    "Y = bruit_gauss2(image, class1, class2, MU1_INITIAL, SIGMA1_INITIAL, MU2_INITIAL, SIGMA2_INITIAL)\n",
    "\n",
    "plt.plot(Y)\n",
    "plt.show()\n",
    "\n",
    "estim_param_EM_indep()\n"
   ]
  }
 ],
 "metadata": {
  "interpreter": {
   "hash": "f489fa09b09661d741d1aee0482c3792118d516f8dffab1399d2c4234cb3cfaa"
  },
  "kernelspec": {
   "display_name": "Python 3.9.7 64-bit",
   "name": "python3"
  },
  "language_info": {
   "name": "python",
   "version": "3.9.7"
  },
  "orig_nbformat": 4
 },
 "nbformat": 4,
 "nbformat_minor": 2
}
