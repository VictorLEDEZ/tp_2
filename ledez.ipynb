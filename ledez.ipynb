{
 "cells": [
  {
   "cell_type": "markdown",
   "metadata": {},
   "source": [
    "# TP 2 : La Segmentation bayésienne d’image - Victor LEDEZ"
   ]
  },
  {
   "cell_type": "code",
   "execution_count": null,
   "metadata": {},
   "outputs": [],
   "source": [
    "from matplotlib import pyplot as plt\n",
    "!pip install opencv-python\n",
    "import cv2 as cv\n"
   ]
  },
  {
   "cell_type": "code",
   "execution_count": null,
   "metadata": {},
   "outputs": [],
   "source": [
    "from variables import SIGMA1_INITIAL\n",
    "from variables import SIGMA2_INITIAL\n",
    "from variables import MU1_INITIAL\n",
    "from variables import MU2_INITIAL\n",
    "from variables import ITERATIONS\n",
    "from variables import P1_INITIAL\n",
    "from variables import P2_INITIAL\n",
    "\n",
    "from code.utils import transform_line_in_img\n",
    "from code.utils import bruit_gauss2\n",
    "\n",
    "from code.segmentation_image_indep import segmentation_image_indep\n",
    "from code.classes_calculations import classes_calculations\n",
    "from code.estim_param_EM_indep import estim_param_EM_indep\n",
    "from code.images import load_image_1d\n",
    "\n"
   ]
  },
  {
   "cell_type": "markdown",
   "metadata": {},
   "source": [
    "## II) Modèle des couples indépendants"
   ]
  },
  {
   "cell_type": "markdown",
   "metadata": {},
   "source": [
    "### 3.\n",
    "> Ecrire la fonction estim_param_EM_indep(iter, Y, p1, p2, m1, sig1, m2, sig2), qui estime les paramètres p1, p2, m1, sig1, m2, sig2 par l’algorithme EM, à partir des observations Y.\n"
   ]
  },
  {
   "cell_type": "markdown",
   "metadata": {},
   "source": [
    "Dans un premier temps, nous chargons une image, nous l'affichons et nous la converstissons en une array une dimension."
   ]
  },
  {
   "cell_type": "code",
   "execution_count": null,
   "metadata": {},
   "outputs": [],
   "source": [
    "image_name = 'alfa2'\n",
    "\n",
    "path = f'images/{image_name}.bmp'\n",
    "image = cv.cvtColor(cv.imread(path), cv.COLOR_BGR2GRAY)\n",
    "plt.title('Image originelle')\n",
    "plt.axis('off')\n",
    "plt.imshow(image, cmap='gray')\n",
    "\n",
    "X = load_image_1d(image_name)\n"
   ]
  },
  {
   "cell_type": "markdown",
   "metadata": {},
   "source": [
    "Maintenant, nous pouvons estimer les classes pour bruiter l'image."
   ]
  },
  {
   "cell_type": "code",
   "execution_count": null,
   "metadata": {},
   "outputs": [],
   "source": [
    "class1, class2 = classes_calculations(X)\n",
    "\n",
    "print(f'classe 1 : {class1}')\n",
    "print(f'classe 2 : {class2}')\n",
    "\n",
    "Y = bruit_gauss2(X, class1, class2, MU1_INITIAL, SIGMA1_INITIAL, MU2_INITIAL, SIGMA2_INITIAL)"
   ]
  },
  {
   "cell_type": "markdown",
   "metadata": {},
   "source": [
    "Voici l'image une fois qu'elle a été bruité :"
   ]
  },
  {
   "cell_type": "code",
   "execution_count": null,
   "metadata": {},
   "outputs": [],
   "source": [
    "plt.title('Image bruitée')\n",
    "plt.axis('off')\n",
    "plt.imshow(transform_line_in_img(Y, 256), cmap='gray')\n"
   ]
  },
  {
   "cell_type": "markdown",
   "metadata": {},
   "source": [
    "Ensuite, nous pouvons predire les valeurs de p1, p2, m1, m2, sigma1 et sigma2."
   ]
  },
  {
   "cell_type": "code",
   "execution_count": null,
   "metadata": {},
   "outputs": [],
   "source": [
    "\n",
    "p1_predicted, m1_predicted, sig1_predicted, p2_predicted, m2_predicted, sig2_predicted = estim_param_EM_indep(ITERATIONS, Y, P1_INITIAL, MU1_INITIAL, SIGMA1_INITIAL, P2_INITIAL, MU2_INITIAL, SIGMA2_INITIAL)\n"
   ]
  },
  {
   "cell_type": "code",
   "execution_count": null,
   "metadata": {},
   "outputs": [],
   "source": [
    "\n",
    "print(f'p1_predicted is: {p1_predicted:.3f}')\n",
    "print(f'm1_predicted is: {m1_predicted:.3f}')\n",
    "print(f'sig1_predicted is: {sig1_predicted:.3f} \\n')\n",
    "\n",
    "print(f'p2_predicted is: {p2_predicted:.3f}')\n",
    "print(f'm2_predicted is: {m2_predicted:.3f}')\n",
    "print(f'sig2_predicted is: {sig2_predicted:.3f}')\n"
   ]
  },
  {
   "cell_type": "markdown",
   "metadata": {},
   "source": [
    "### 4.\n",
    "> Ecrire le script Segmentation_image_indep.py qui acquiert, bruite, estime les paramètres sur la version bruitée puis segmente une image (carré dont la longueur du côté est une puissance de 2) à deux classes selon le modèle indépendant. Ensuite le script calculera le taux d’erreur entre l’image segmentée et l’image réelle et enfin affichera l’image bruitée, l’image segmentée et l’image réelle.\n",
    "\n",
    "> Pour initialiser l’estimation des paramètres, on utilisera l’algorithme du kmeans (kmeans = KMeans(n_clusters=2, random_state=0).fit(Y) et kmeans.labels_) du package scikit-learn, on pourra aussi utiliser la fonction calc_probaprio2 pour calculer les probabilités initiales sur le signal segmenté par le kmeans.\n",
    "\n",
    "> Pour charger une image noir et blanc, on utilisera la fonction cv.cvtColor(cv.imread('path_to_image'), cv.COLOR_BGR2GRAY) et la fonction line_transform_img(img) du script utils.py pour transformer notre image en deux dimension, en signal \n",
    "une dimension.\n",
    "\n",
    "> Pour retransformer votre signal une dimension en image, on pourra utiliser la fonction transform_line_in_img(signal, dSize)et pour afficher une image on pourra utiliser cv.imshow(title, img).\n"
   ]
  },
  {
   "cell_type": "code",
   "execution_count": null,
   "metadata": {},
   "outputs": [],
   "source": [
    "taux_erreur = segmentation_image_indep(image_name, MU1_INITIAL,\n",
    "                         SIGMA1_INITIAL, MU2_INITIAL, SIGMA2_INITIAL)\n",
    "\n",
    "print(f'Taux d\\'erreur : {taux_erreur:.3f} soit {round(taux_erreur * 100, 0):.0f}%')\n"
   ]
  }
 ],
 "metadata": {
  "interpreter": {
   "hash": "b3ba2566441a7c06988d0923437866b63cedc61552a5af99d1f4fb67d367b25f"
  },
  "kernelspec": {
   "display_name": "Python 3.8.8 64-bit ('base': conda)",
   "name": "python3"
  },
  "language_info": {
   "codemirror_mode": {
    "name": "ipython",
    "version": 3
   },
   "file_extension": ".py",
   "mimetype": "text/x-python",
   "name": "python",
   "nbconvert_exporter": "python",
   "pygments_lexer": "ipython3",
   "version": "3.8.8"
  },
  "orig_nbformat": 4
 },
 "nbformat": 4,
 "nbformat_minor": 2
}
