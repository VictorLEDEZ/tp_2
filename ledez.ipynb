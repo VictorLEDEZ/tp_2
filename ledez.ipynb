{
 "cells": [
  {
   "cell_type": "markdown",
   "metadata": {},
   "source": [
    "# TP 2 : La Segmentation bayésienne d’image - Victor LEDEZ"
   ]
  },
  {
   "cell_type": "code",
   "execution_count": 1,
   "metadata": {},
   "outputs": [
    {
     "name": "stdout",
     "output_type": "stream",
     "text": [
      "Requirement already satisfied: opencv-python in c:\\programdata\\anaconda3\\lib\\site-packages (4.5.4.58)\n",
      "Requirement already satisfied: numpy>=1.17.3 in c:\\programdata\\anaconda3\\lib\\site-packages (from opencv-python) (1.20.1)\n"
     ]
    }
   ],
   "source": [
    "!pip install opencv-python\n",
    "\n",
    "import cv2"
   ]
  },
  {
   "cell_type": "code",
   "execution_count": 2,
   "metadata": {},
   "outputs": [],
   "source": [
    "!pip install opencv-python\n",
    "import cv2\n",
    "\n",
    "from code.classes_calculations import classes_calculations\n",
    "from code.estim_param_EM_indep import estim_param_EM_indep\n",
    "from code.plot_gaussian import plot_gaussian\n",
    "from code.images import load_image_1d\n",
    "from matplotlib import pyplot as plt\n",
    "from code.utils import bruit_gauss2\n",
    "\n",
    "from variables import SIGMA1_INITIAL\n",
    "from variables import SIGMA2_INITIAL\n",
    "from variables import MU1_INITIAL\n",
    "from variables import MU2_INITIAL\n",
    "from variables import ITERATIONS\n"
   ]
  },
  {
   "cell_type": "markdown",
   "metadata": {},
   "source": [
    "## I) La segmentation bayésienne d’image"
   ]
  },
  {
   "cell_type": "code",
   "execution_count": 3,
   "metadata": {},
   "outputs": [
    {
     "data": {
      "image/png": "[encoded data removed]",
      "text/plain": [
       "<Figure size 432x288 with 1 Axes>"
      ]
     },
     "metadata": {
      "needs_background": "light"
     },
     "output_type": "display_data"
    },
    {
     "ename": "TypeError",
     "evalue": "estim_param_EM_indep() missing 8 required positional arguments: 'iterations', 'Y', 'p1_initial', 'p2_initial', 'm1_initial', 'sig1_initial', 'm2_initial', and 'sig2_initial'",
     "output_type": "error",
     "traceback": [
      "\u001b[1;31m---------------------------------------------------------------------------\u001b[0m",
      "\u001b[1;31mTypeError\u001b[0m                                 Traceback (most recent call last)",
      "\u001b[1;32m<ipython-input-3-996b539bddc1>\u001b[0m in \u001b[0;36m<module>\u001b[1;34m\u001b[0m\n\u001b[0;32m     10\u001b[0m \u001b[0mplt\u001b[0m\u001b[1;33m.\u001b[0m\u001b[0mshow\u001b[0m\u001b[1;33m(\u001b[0m\u001b[1;33m)\u001b[0m\u001b[1;33m\u001b[0m\u001b[1;33m\u001b[0m\u001b[0m\n\u001b[0;32m     11\u001b[0m \u001b[1;33m\u001b[0m\u001b[0m\n\u001b[1;32m---> 12\u001b[1;33m \u001b[0mestim_param_EM_indep\u001b[0m\u001b[1;33m(\u001b[0m\u001b[1;33m)\u001b[0m\u001b[1;33m\u001b[0m\u001b[1;33m\u001b[0m\u001b[0m\n\u001b[0m",
      "\u001b[1;31mTypeError\u001b[0m: estim_param_EM_indep() missing 8 required positional arguments: 'iterations', 'Y', 'p1_initial', 'p2_initial', 'm1_initial', 'sig1_initial', 'm2_initial', and 'sig2_initial'"
     ]
    }
   ],
   "source": [
    "\n",
    "# plot_gaussian(MU1_INITIAL, SIGMA1_INITIAL, MU2_INITIAL, SIGMA2_INITIAL)\n",
    "\n",
    "image = load_image_1d('alfa2')\n",
    "\n",
    "class1, class2 = classes_calculations(image)\n",
    "\n",
    "Y = bruit_gauss2(image, class1, class2, MU1_INITIAL, SIGMA1_INITIAL, MU2_INITIAL, SIGMA2_INITIAL)\n",
    "\n",
    "plt.plot(Y)\n",
    "plt.show()\n",
    "\n",
    "estim_param_EM_indep()\n"
   ]
  }
 ],
 "metadata": {
  "interpreter": {
   "hash": "b3ba2566441a7c06988d0923437866b63cedc61552a5af99d1f4fb67d367b25f"
  },
  "kernelspec": {
   "display_name": "Python 3.8.8 64-bit ('base': conda)",
   "name": "python3"
  },
  "language_info": {
   "codemirror_mode": {
    "name": "ipython",
    "version": 3
   },
   "file_extension": ".py",
   "mimetype": "text/x-python",
   "name": "python",
   "nbconvert_exporter": "python",
   "pygments_lexer": "ipython3",
   "version": "3.8.8"
  },
  "orig_nbformat": 4
 },
 "nbformat": 4,
 "nbformat_minor": 2
}
